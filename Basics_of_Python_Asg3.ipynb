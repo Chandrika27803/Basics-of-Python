{
  "nbformat": 4,
  "nbformat_minor": 0,
  "metadata": {
    "colab": {
      "provenance": []
    },
    "kernelspec": {
      "name": "python3",
      "display_name": "Python 3"
    },
    "language_info": {
      "name": "python"
    }
  },
  "cells": [
    {
      "cell_type": "markdown",
      "source": [
        "**Prime Numbers**"
      ],
      "metadata": {
        "id": "pv5t98oGpc_D"
      }
    },
    {
      "cell_type": "code",
      "source": [
        "n=int(input())\n",
        "if n <= 1:\n",
        "    print(\"Not Prime\")\n",
        "else:\n",
        "    for i in range(2, int(n**0.5) + 1):\n",
        "        if n % i == 0:\n",
        "            print(\"Not Prime\")\n",
        "            break\n",
        "    else:\n",
        "        print(\"Prime\")"
      ],
      "metadata": {
        "colab": {
          "base_uri": "https://localhost:8080/"
        },
        "id": "yRXDpI0fpj5M",
        "outputId": "ec292a09-030b-404c-a3b0-e5c89dc0fd5b"
      },
      "execution_count": null,
      "outputs": [
        {
          "output_type": "stream",
          "name": "stdout",
          "text": [
            "7\n",
            "Prime\n"
          ]
        }
      ]
    },
    {
      "cell_type": "markdown",
      "source": [
        "Product of Random Numbers"
      ],
      "metadata": {
        "id": "fOB2b3K4s2l1"
      }
    },
    {
      "cell_type": "code",
      "source": [
        "import random\n",
        "# Generate two random numbers\n",
        "num1 = random.randint(1, 100)\n",
        "num2 = random.randint(1, 100)\n",
        "\n",
        "product = num1 * num2\n",
        "\n",
        "# Ask the user to enter the product\n",
        "user_answer = int(input(f\"Enter the product of {num1} and {num2}? \"))\n",
        "\n",
        "# Check if answer is correct or not\n",
        "if user_answer == product:\n",
        "    print(\"Correct! Well done.\")\n",
        "else:\n",
        "    print(f\"Oops! The correct answer is {correct_product}.\")"
      ],
      "metadata": {
        "colab": {
          "base_uri": "https://localhost:8080/"
        },
        "id": "GD8ZTO3MrxE8",
        "outputId": "e949daca-fe09-472a-da14-7d162392effe"
      },
      "execution_count": null,
      "outputs": [
        {
          "output_type": "stream",
          "name": "stdout",
          "text": [
            "Enter the product of 9 and 100? 900\n",
            "Correct! Well done.\n"
          ]
        }
      ]
    },
    {
      "cell_type": "markdown",
      "source": [
        "Squares of Even/Odd Numbers\n"
      ],
      "metadata": {
        "id": "v_bODTMotkf0"
      }
    },
    {
      "cell_type": "code",
      "source": [
        "print(\"Squares of odd numbers between 100 and 200:\")\n",
        "# Loop through the range 100 to 200\n",
        "for num in range(100, 201):\n",
        "    if num % 2 != 0:  # Check if the number is even\n",
        "        print(f\"The square of {num} is {num**2}\")"
      ],
      "metadata": {
        "colab": {
          "base_uri": "https://localhost:8080/"
        },
        "id": "JOu6_I9VtEqv",
        "outputId": "a11f5ea5-6118-47d8-abd4-8e6d4f17fcb5"
      },
      "execution_count": null,
      "outputs": [
        {
          "output_type": "stream",
          "name": "stdout",
          "text": [
            "Squares of odd numbers between 100 and 200:\n",
            "The square of 101 is 10201\n",
            "The square of 103 is 10609\n",
            "The square of 105 is 11025\n",
            "The square of 107 is 11449\n",
            "The square of 109 is 11881\n",
            "The square of 111 is 12321\n",
            "The square of 113 is 12769\n",
            "The square of 115 is 13225\n",
            "The square of 117 is 13689\n",
            "The square of 119 is 14161\n",
            "The square of 121 is 14641\n",
            "The square of 123 is 15129\n",
            "The square of 125 is 15625\n",
            "The square of 127 is 16129\n",
            "The square of 129 is 16641\n",
            "The square of 131 is 17161\n",
            "The square of 133 is 17689\n",
            "The square of 135 is 18225\n",
            "The square of 137 is 18769\n",
            "The square of 139 is 19321\n",
            "The square of 141 is 19881\n",
            "The square of 143 is 20449\n",
            "The square of 145 is 21025\n",
            "The square of 147 is 21609\n",
            "The square of 149 is 22201\n",
            "The square of 151 is 22801\n",
            "The square of 153 is 23409\n",
            "The square of 155 is 24025\n",
            "The square of 157 is 24649\n",
            "The square of 159 is 25281\n",
            "The square of 161 is 25921\n",
            "The square of 163 is 26569\n",
            "The square of 165 is 27225\n",
            "The square of 167 is 27889\n",
            "The square of 169 is 28561\n",
            "The square of 171 is 29241\n",
            "The square of 173 is 29929\n",
            "The square of 175 is 30625\n",
            "The square of 177 is 31329\n",
            "The square of 179 is 32041\n",
            "The square of 181 is 32761\n",
            "The square of 183 is 33489\n",
            "The square of 185 is 34225\n",
            "The square of 187 is 34969\n",
            "The square of 189 is 35721\n",
            "The square of 191 is 36481\n",
            "The square of 193 is 37249\n",
            "The square of 195 is 38025\n",
            "The square of 197 is 38809\n",
            "The square of 199 is 39601\n"
          ]
        }
      ]
    },
    {
      "cell_type": "markdown",
      "source": [
        "Word counter"
      ],
      "metadata": {
        "id": "Cf2X_DlOuTXI"
      }
    },
    {
      "cell_type": "code",
      "source": [
        "# Sample input text\n",
        "input_text = \"This is a sample text. This text will be used to demonstrate the word counter.\"\n",
        "\n",
        "# Remove punctuation from the text\n",
        "import string\n",
        "translator = str.maketrans('', '', string.punctuation)\n",
        "input_text = input_text.translate(translator)\n",
        "words = input_text.split()\n",
        "\n",
        "# Create a dictionary to store word counts\n",
        "word_count = {}\n",
        "# Count the occurrences of each word\n",
        "for word in words:\n",
        "    if word in word_count:\n",
        "        word_count[word] += 1\n",
        "    else:\n",
        "        word_count[word] = 1\n",
        "\n",
        "# Print the word counts\n",
        "for word, count in word_count.items():\n",
        "    print(f\"'{word}': {count}\")\n"
      ],
      "metadata": {
        "colab": {
          "base_uri": "https://localhost:8080/"
        },
        "id": "y8JSC0mguPp4",
        "outputId": "61831f81-b059-4d86-b359-ff7d425b80c8"
      },
      "execution_count": null,
      "outputs": [
        {
          "output_type": "stream",
          "name": "stdout",
          "text": [
            "'This': 2\n",
            "'is': 1\n",
            "'a': 1\n",
            "'sample': 1\n",
            "'text': 2\n",
            "'will': 1\n",
            "'be': 1\n",
            "'used': 1\n",
            "'to': 1\n",
            "'demonstrate': 1\n",
            "'the': 1\n",
            "'word': 1\n",
            "'counter': 1\n"
          ]
        }
      ]
    },
    {
      "cell_type": "markdown",
      "source": [
        "Check for Palindrome"
      ],
      "metadata": {
        "id": "6JQSx23MvXzE"
      }
    },
    {
      "cell_type": "code",
      "source": [
        "def is_palindrome(input_str):\n",
        "  # Remove punctuation and spaces, and convert to lowercase\n",
        "    translator = str.maketrans('', '', string.punctuation + ' ')\n",
        "    str1 = input_str.translate(translator).lower()\n",
        "    # Check if the string is the same forward and backward\n",
        "    return str1 == str1[::-1]\n",
        "input_str=input(\"Enter a String:\")\n",
        "print(is_palindrome(input_str))"
      ],
      "metadata": {
        "colab": {
          "base_uri": "https://localhost:8080/"
        },
        "id": "LULgp3Dju9su",
        "outputId": "4406cea9-f37f-4dbc-ae3a-fc12ab87b2cd"
      },
      "execution_count": null,
      "outputs": [
        {
          "output_type": "stream",
          "name": "stdout",
          "text": [
            "Enter a String:racecar\n",
            "True\n"
          ]
        }
      ]
    },
    {
      "cell_type": "code",
      "source": [],
      "metadata": {
        "id": "qpw03Ndiw0JC"
      },
      "execution_count": null,
      "outputs": []
    }
  ]
}